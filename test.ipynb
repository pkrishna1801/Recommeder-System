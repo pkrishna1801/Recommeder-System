{
 "cells": [
  {
   "cell_type": "code",
   "execution_count": 1,
   "id": "7dd6b511",
   "metadata": {},
   "outputs": [
    {
     "name": "stdout",
     "output_type": "stream",
     "text": [
      "{'success': True, 'token': 'custom.eyJ1c2VyX2lkIjogImY0MmE3MmU2LTQxNzgtNDkyZi04OTFmLThkMDRiNmM5MjMzNSIsICJ1c2VybmFtZSI6ICJBQkMiLCAiZXhwIjogMTc0NjU5MDA5OH0=', 'user': {'email': 'ABC@gmail.com', 'id': 'f42a72e6-4178-492f-891f-8d04b6c92335', 'preferences': {'brand_preferences': ['ArtisanCraft', 'ArtisanTech', 'BrewMaster'], 'category_preferences': ['Pets', 'Clothing', 'Accessories', 'Footwear'], 'price_range': {'max': 200, 'min': 100}}, 'username': 'ABC'}}\n"
     ]
    }
   ],
   "source": [
    "import requests\n",
    "\n",
    "res = requests.post(\"http://localhost:5000/api/auth/login\", json={\n",
    "    \"username\": \"ABC\",\n",
    "    \"password\": \"Asdfgh\"\n",
    "})\n",
    "\n",
    "print(res.json())\n"
   ]
  },
  {
   "cell_type": "code",
   "execution_count": null,
   "id": "c7c04646",
   "metadata": {},
   "outputs": [],
   "source": []
  }
 ],
 "metadata": {
  "kernelspec": {
   "display_name": "rag_env",
   "language": "python",
   "name": "python3"
  },
  "language_info": {
   "codemirror_mode": {
    "name": "ipython",
    "version": 3
   },
   "file_extension": ".py",
   "mimetype": "text/x-python",
   "name": "python",
   "nbconvert_exporter": "python",
   "pygments_lexer": "ipython3",
   "version": "3.8.20"
  }
 },
 "nbformat": 4,
 "nbformat_minor": 5
}
